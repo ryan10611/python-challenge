{
 "cells": [
  {
   "cell_type": "code",
   "execution_count": 126,
   "metadata": {},
   "outputs": [
    {
     "name": "stdout",
     "output_type": "stream",
     "text": [
      "-2315.1176470588234\n",
      "Financial Analysis:\n",
      " \n",
      "Total Months: 86\n",
      "Total: $38382578\n",
      "Average Change: $-2315.1176470588234\n",
      "Greatest increase in profit: Jan-2012: $1926159\n",
      "Greatest decrease in losses: Aug-2013: $-2196167\n"
     ]
    }
   ],
   "source": [
    "import os\n",
    "import csv\n",
    "import statistics\n",
    "\n",
    "monthlist = []\n",
    "moneylist = []\n",
    "avgchange = 0\n",
    "csvpath = os.path.join ('Resources', 'budget_data.csv')\n",
    "\n",
    "# Loads in and reads our Excel data\n",
    "with open(csvpath, newline='') as csvfile:\n",
    "    csvreader = csv.reader(csvfile, delimiter= ',')\n",
    "# Skips over header\n",
    "    next(csvreader)\n",
    "\n",
    "# Reads in our values\n",
    "    for column in csvreader:\n",
    "        months, money = column\n",
    "        monthlist.append(str(months))\n",
    "        moneylist.append(int(money))\n",
    "\n",
    "# Totals\n",
    "nummonths = (len(monthlist))\n",
    "totalmoney = (sum(moneylist))\n",
    "\n",
    "# Average change\n",
    "netchange = []\n",
    "for x,y in zip(moneylist[:-1], moneylist[1:]):\n",
    "    netchange.append((y)-(x))\n",
    "temp = 0.0       \n",
    "for num in netchange:\n",
    "    temp += float(num)\n",
    "avgchange = (temp/(len(netchange)))\n",
    "print(avgchange)\n",
    "\n",
    "# Greatest increase in profits\n",
    "changelist = list(zip(netchange, monthlist))\n",
    "grincmonth = max(changelist)[1]\n",
    "grincval = max(changelist)[0]\n",
    "\n",
    "# Greatest decrease in losses\n",
    "grdecmonth = min(changelist)[1]\n",
    "grdecval = min(changelist)[0]\n",
    "\n",
    "# Post saved-data analysis:\n",
    "print(\"Financial Analysis:\")\n",
    "print(\" \")\n",
    "print(\"Total Months: \" + str(nummonths))\n",
    "print(\"Total: \" + \"$\" + str(totalmoney))\n",
    "print(\"Average Change: \" + \"$\" + str(avgchange))\n",
    "print(\"Greatest increase in profit: \" + str(grincmonth) + \": $\" + str(grincval))\n",
    "print(\"Greatest decrease in losses: \" + str(grdecmonth) + \": $\" + str(grdecval))\n",
    "\n",
    "# Writes output to txt file\n",
    "outputpath = os.path.join(\"data.txt\")\n",
    "\n",
    "with open(outputpath, 'w', newline = '') as txt:\n",
    "    txt.write(\"Financial Analysis:\")\n",
    "    txt.write(\" \")\n",
    "    txt.write(\"Total Months: \" + str(nummonths))\n",
    "    txt.write(\"Total: \" + \"$\" + str(totalmoney))\n",
    "    txt.write(\"Average Change: \" + \"$\" + str(avgchange))\n",
    "    txt.write(\"Greatest increase in profit: \" + str(grincmonth) + \": $\" + str(grincval))\n",
    "    txt.write(\"Greatest decrease in losses: \" + str(grdecmonth) + \": $\" + str(grdecval))"
   ]
  },
  {
   "cell_type": "code",
   "execution_count": null,
   "metadata": {},
   "outputs": [],
   "source": []
  },
  {
   "cell_type": "code",
   "execution_count": null,
   "metadata": {},
   "outputs": [],
   "source": []
  }
 ],
 "metadata": {
  "kernelspec": {
   "display_name": "Python 3",
   "language": "python",
   "name": "python3"
  },
  "language_info": {
   "codemirror_mode": {
    "name": "ipython",
    "version": 3
   },
   "file_extension": ".py",
   "mimetype": "text/x-python",
   "name": "python",
   "nbconvert_exporter": "python",
   "pygments_lexer": "ipython3",
   "version": "3.7.1"
  }
 },
 "nbformat": 4,
 "nbformat_minor": 2
}
