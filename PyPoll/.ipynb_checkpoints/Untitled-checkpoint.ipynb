{
 "cells": [
  {
   "cell_type": "code",
   "execution_count": 12,
   "metadata": {},
   "outputs": [
    {
     "name": "stdout",
     "output_type": "stream",
     "text": [
      "Election Results:\n",
      " \n",
      "Total votes: 3521001\n",
      "Khan: captured 63.0% of votes, with 2218231\n",
      "Correy: captured 20.0% of votes, with 704200\n",
      "Li: captured 14.0% of votes, with 492940\n",
      "O'Tooley: captured 3.0% of votes, with 105630\n",
      "And the winner is: O'Tooley\n"
     ]
    }
   ],
   "source": [
    "import csv\n",
    "import os\n",
    "from collections import Counter\n",
    "\n",
    "numvotes = Counter()\n",
    "candidates = []\n",
    "output = []    \n",
    "pervote = []\n",
    "# Reads in csv file\n",
    "csvpath = os.path.join(\"Resources\", \"election_data.csv\")\n",
    "with open(csvpath, newline = \"\") as csvfile:\n",
    "    csvreader = csv.reader(csvfile, delimiter=\",\")\n",
    "    next(csvreader)\n",
    "    \n",
    "    # Fills our list with candidates\n",
    "    for row in csvreader:\n",
    "        candidates.append(row[2])\n",
    "    total = len(candidates)\n",
    "    \n",
    "    # Iterates through candidates for winner\n",
    "    for can in candidates:\n",
    "        numvotes[can] = numvotes[can] + 1\n",
    "    votes = tuple(numvotes.values())\n",
    "    canname = tuple(numvotes.keys())\n",
    "    electorate = max(zip(numvotes.keys()))\n",
    "    \n",
    "    # Electorate determiner\n",
    "    tempwinner = \"\"\n",
    "    tempvote = 0\n",
    "    for x in range(len(canname)):\n",
    "        if votes[x] > tempvote:\n",
    "            tempvote = votes[x]\n",
    "            tempwinner = canname[x]\n",
    "        \n",
    "    # Vote percentages\n",
    "    for vote in votes:\n",
    "        pervote.append((int(vote)/total)*100)\n",
    "            \n",
    "# Post data-analysis output\n",
    "print(\"Election Results:\")\n",
    "print(\" \")\n",
    "print(\"Total votes: \" + str(total))\n",
    "for i in range(len(canname)):\n",
    "        print(canname[i] + ': captured ' + str(round(pervote[i],1)) + \"% of votes, with \" + str(votes[i]))\n",
    "print(\"And the winner is: \" + tempwinner)\n"
   ]
  },
  {
   "cell_type": "code",
   "execution_count": null,
   "metadata": {},
   "outputs": [],
   "source": []
  }
 ],
 "metadata": {
  "kernelspec": {
   "display_name": "Python 3",
   "language": "python",
   "name": "python3"
  },
  "language_info": {
   "codemirror_mode": {
    "name": "ipython",
    "version": 3
   },
   "file_extension": ".py",
   "mimetype": "text/x-python",
   "name": "python",
   "nbconvert_exporter": "python",
   "pygments_lexer": "ipython3",
   "version": "3.7.1"
  }
 },
 "nbformat": 4,
 "nbformat_minor": 2
}
